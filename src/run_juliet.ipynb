{
 "cells": [
  {
   "cell_type": "code",
   "execution_count": 1,
   "metadata": {},
   "outputs": [],
   "source": [
    "import torch\n",
    "import torch.nn as nn\n",
    "import torch.nn.functional as F\n",
    "import torch_geometric\n",
    "import os\n",
    "import javalang\n",
    "from javaprep import *\n",
    "from edge_index import edges\n",
    "import os\n",
    "from loaders import get_loaders\n",
    "import matplotlib.pyplot as plt\n",
    "import random\n",
    "from datetime import datetime\n",
    "from datetime import date\n",
    "import csv\n",
    "import pandas as pd\n",
    "import torch.optim as optim\n",
    "import numpy as np"
   ]
  },
  {
   "cell_type": "code",
   "execution_count": 2,
   "metadata": {},
   "outputs": [],
   "source": [
    "from torch.nn import Linear\n",
    "import torch.nn.functional as F\n",
    "from torch_geometric.nn import GCNConv\n",
    "from torch_geometric.nn import global_mean_pool\n",
    "import torch\n",
    "\n",
    "class GCN(torch.nn.Module):\n",
    "    def __init__(self, seed):\n",
    "        torch.manual_seed(seed)\n",
    "        super(GCN, self).__init__()\n",
    "        self.conv1 = GCNConv(50, 64)\n",
    "        self.conv2 = GCNConv(64, 64)\n",
    "        self.conv3 = GCNConv(64, 64)\n",
    "        self.lin = Linear(64, 2)\n",
    "\n",
    "    def forward(self, x, edge_index, batch):\n",
    "        x = self.conv1(x, edge_index)\n",
    "        x = x.relu()\n",
    "        x = self.conv2(x, edge_index)\n",
    "        x = x.relu()\n",
    "        x = self.conv3(x, edge_index)\n",
    "        # 2. Readout layer\n",
    "        x = global_mean_pool(x, batch)  # [batch_size, hidden_channels]\n",
    "\n",
    "        # 3. Apply a final classifier\n",
    "        x = F.dropout(x, p=0.5, training=self.training)\n",
    "        x = self.lin(x)\n",
    "\n",
    "        \n",
    "        \n",
    "        return x"
   ]
  },
  {
   "cell_type": "code",
   "execution_count": 3,
   "metadata": {},
   "outputs": [],
   "source": [
    "def learn(train, test, cwe):\n",
    "    \n",
    "    seed = random.randint(1,10000)\n",
    "    model = GCN(seed)\n",
    "    learning_rate = 0.01\n",
    "    loss_function = torch.nn.CrossEntropyLoss()\n",
    "    optimizer = torch.optim.Adam(model.parameters(), lr=learning_rate)\n",
    "    criterion = loss_function\n",
    "    current_time = (datetime.now()).strftime(\"%H:%M:%S\")\n",
    "    current_date = (date.today()).strftime(\"%d/%m/%Y\")\n",
    "    epochs, losses, test_accs, train_accs, precisions, recalls, fscores = [], [], [], [], [], [], []\n",
    "    score_report = {\n",
    "        'Test Acc': [], \n",
    "        'Losses': [],\n",
    "        'FScores': [],\n",
    "        'Recalls': [],\n",
    "        'Precisions': [],\n",
    "        'CWE': cwe, \n",
    "        'Model': str(model).replace('\\n', ' ').replace('\\t', ' '), \n",
    "        'Date': current_date, \n",
    "        'Time': current_time, \n",
    "        'Seed': seed, \n",
    "        'Learning Rate': learning_rate, \n",
    "        'Loss Function': loss_function\n",
    "    }\n",
    "    epochs_no_improve = 0\n",
    "    saved = False\n",
    "    scheduler = optim.lr_scheduler.StepLR(optimizer, step_size=10, gamma=0.08)\n",
    "    for epoch in range(40):\n",
    "        print(\"Epoch: \", epoch, end='\\r')\n",
    "        train_correct, train_total = 0, 0\n",
    "        for data in train:   \n",
    "            optimizer.zero_grad()  \n",
    "            out = model(data.x, data.edge_index, data.batch)  \n",
    "            loss = criterion(out, data.y)\n",
    "            pred = out.argmax(dim=1)\n",
    "            train_correct+=sum(1 for x,y in zip(pred.tolist(),data.y.tolist()) if x == y)\n",
    "            train_total+=len(pred.tolist())\n",
    "            loss.backward()  \n",
    "            optimizer.step()\n",
    "        scheduler.step()\n",
    "        train_accs.append(round(train_correct/train_total, 3))\n",
    "        test_correct, test_total = 0, 0\n",
    "        tp, fp = 0, 0\n",
    "        tn, fn = 0, 0\n",
    "        for quiz in test:\n",
    "            out = model(quiz.x, quiz.edge_index, quiz.batch) \n",
    "            pred = out.argmax(dim=1)\n",
    "            for x,y in zip(pred.tolist(),quiz.y.tolist()):\n",
    "                if x == y:\n",
    "                    test_correct+=1\n",
    "                if x == 1 and y == 0:\n",
    "                    fp+=1\n",
    "                if x == 0 and y == 0:\n",
    "                    tp+=1\n",
    "                if x == 0 and y == 0:\n",
    "                    tn+=1\n",
    "                if x == 0 and y ==1:\n",
    "                    fn+=1\n",
    "            test_total+=len(pred.tolist())\n",
    "        try:\n",
    "            precisions.append(round(tp/(tp+fp), 3)) \n",
    "            recalls.append(round(tp/(tp+fn), 3)) \n",
    "            fscores.append(2*(((tp/(tp+fp))*(tp/(tp+fn)))/((tp/(tp+fp))+(tp/(tp+fn)))))\n",
    "        except:\n",
    "            print(\"Divide by zero error\")\n",
    "            precisions.append(0) \n",
    "            recalls.append(0) \n",
    "            fscores.append(0)\n",
    "        epochs.append(epoch)\n",
    "        losses.append(loss)\n",
    "        test_accs.append(test_correct/test_total) \n",
    "        #print(\"Training \", str(cwe.split('/')[3]), \"on epoch \", epoch, \"with acc: \", str(round(correct/total, 4)), end = '\\r')\n",
    "        if epoch+1 in [1,3,5,10,20,40]:\n",
    "            score_report['Test Acc'].append(round(test_correct/test_total, 3))\n",
    "            score_report['Losses'].append(round(loss.item(), 3))\n",
    "            score_report['FScores'].append(round((2*(((tp/(tp+fp))*(tp/(tp+fn)))/((tp/(tp+fp))+(tp/(tp+fn))))), 3))\n",
    "            score_report['Recalls'].append(round(tp/(tp+fn), 3)) \n",
    "            score_report['Precisions'].append(round(tp/(tp+fp), 3)) \n",
    "        \n",
    "        \n",
    "    plt.figure(figsize=(20,10))\n",
    "    x_ticks = np.arange(0, 40, 5)\n",
    "    plt.xticks(x_ticks)\n",
    "    y_ticks = np.arange(0, 1, 0.1)\n",
    "    plt.yticks(y_ticks)\n",
    "    plt.plot(epochs, losses, label='train loss', color='darkviolet', linewidth=2)\n",
    "    plt.plot(epochs, train_accs, label='train acc', color='gold', linewidth=2)\n",
    "    plt.plot(epochs, test_accs, label='test acc', color='forestgreen', linewidth=2)\n",
    "    plt.plot(epochs, precisions, label='precision', color='dodgerblue', linewidth=2)\n",
    "    plt.plot(epochs, recalls, label='recall', color='gray', linewidth=2)\n",
    "    plt.plot(epochs, fscores, label='f-score', color='crimson', linewidth=2)\n",
    "    plt.legend(prop={'size': 20})\n",
    "    plt.savefig('../pngs/JULIET-'+str(cwe.split('/')[3])+'-'+str(current_date).replace('/','-')+'-'+str(current_time)+'.png')\n",
    "    plt.clf()\n",
    "    print()\n",
    "                                             \n",
    "    return score_report, model"
   ]
  },
  {
   "cell_type": "markdown",
   "metadata": {},
   "source": [
    "\"Methods used to create data flow patterns (“source” and “sink” methods) in More Complex test cases are not considered “helper” methods because they are not part of the flaw construct.\""
   ]
  },
  {
   "cell_type": "code",
   "execution_count": 4,
   "metadata": {},
   "outputs": [
    {
     "name": "stdout",
     "output_type": "stream",
     "text": [
      "CWE190  Round:  0\n",
      "../juliet/prep/CWE190\n",
      "generating asts...\n",
      "generating trees...\n",
      "training word2vec...\n",
      "generating graphs...\n",
      "balancing dataset (pass 1)\n",
      "balancing dataset (pass 2)\n",
      "Number of good methods:  11960  Number of bad methods:  11960\n",
      "splitting dataset\n",
      "Epoch:  39\n",
      "['../juliet/prep/CWE190', '27/12/2020', '01:18:09', 'GCN(   (conv1): GCNConv(50, 64)   (conv2): GCNConv(64, 64)   (conv3): GCNConv(64, 64)   (lin): Linear(in_features=64, out_features=2, bias=True) )', 2421, 0.01, CrossEntropyLoss(), 1.0, 1.0, 1.0, 1.0, 1.0, 1.0, 1.0, 1.0, 0.99, 0.995, 0.99, 0.985, 1.0, 1.0, 1.0, 1.0, 1.0, 1.0, 1.0, 1.0, 1.0, 1.0, 1.0, 1.0]\n",
      "CWE90  Round:  0\n",
      "../juliet/prep/CWE90\n",
      "generating asts...\n",
      "generating trees...\n",
      "training word2vec...\n",
      "generating graphs...\n",
      "balancing dataset (pass 1)\n",
      "Number of good methods:  696  Number of bad methods:  696\n",
      "splitting dataset\n",
      "Epoch:  39\n",
      "['../juliet/prep/CWE90', '27/12/2020', '01:39:43', 'GCN(   (conv1): GCNConv(50, 64)   (conv2): GCNConv(64, 64)   (conv3): GCNConv(64, 64)   (lin): Linear(in_features=64, out_features=2, bias=True) )', 6411, 0.01, CrossEntropyLoss(), 0.86, 0.942, 0.87, 0.807, 0.892, 1.0, 0.902, 0.821, 0.968, 1.0, 0.968, 0.939, 1.0, 1.0, 1.0, 1.0, 1.0, 1.0, 1.0, 1.0, 1.0, 1.0, 1.0, 1.0]\n",
      "CWE23  Round:  0\n",
      "../juliet/prep/CWE23\n",
      "generating asts...\n",
      "generating trees...\n",
      "training word2vec...\n",
      "generating graphs...\n",
      "balancing dataset (pass 1)\n",
      "Number of good methods:  696  Number of bad methods:  696\n",
      "splitting dataset\n",
      "Epoch:  39\n",
      "['../juliet/prep/CWE23', '27/12/2020', '01:41:58', 'GCN(   (conv1): GCNConv(50, 64)   (conv2): GCNConv(64, 64)   (conv3): GCNConv(64, 64)   (lin): Linear(in_features=64, out_features=2, bias=True) )', 2713, 0.01, CrossEntropyLoss(), 0.652, 0.621, 0.65, 0.682, 0.875, 0.979, 0.89, 0.816, 0.989, 1.0, 0.99, 0.98, 1.0, 1.0, 1.0, 1.0, 1.0, 1.0, 1.0, 1.0, 1.0, 1.0, 1.0, 1.0]\n",
      "CWE129  Round:  0\n",
      "../juliet/prep/CWE129\n",
      "generating asts...\n",
      "generating trees...\n",
      "training word2vec...\n",
      "generating graphs...\n",
      "balancing dataset (pass 1)\n",
      "balancing dataset (pass 2)\n",
      "Number of good methods:  7488  Number of bad methods:  7488\n",
      "splitting dataset\n",
      "Epoch:  39\n",
      "CWE129  Round:  1\n",
      "../juliet/prep/CWE129\n",
      "generating asts...\n",
      "generating trees...\n",
      "training word2vec...\n",
      "generating graphs...\n",
      "balancing dataset (pass 1)\n",
      "balancing dataset (pass 2)\n",
      "Number of good methods:  7488  Number of bad methods:  7488\n",
      "splitting dataset\n",
      "Epoch:  39\n",
      "CWE129  Round:  2\n",
      "../juliet/prep/CWE129\n",
      "generating asts...\n",
      "generating trees...\n",
      "training word2vec...\n",
      "generating graphs...\n",
      "balancing dataset (pass 1)\n",
      "balancing dataset (pass 2)\n",
      "Number of good methods:  7488  Number of bad methods:  7488\n",
      "splitting dataset\n",
      "Epoch:  39\n",
      "['../juliet/prep/CWE129', '27/12/2020', '01:45:17', 'GCN(   (conv1): GCNConv(50, 64)   (conv2): GCNConv(64, 64)   (conv3): GCNConv(64, 64)   (lin): Linear(in_features=64, out_features=2, bias=True) )', 2821, 0.01, CrossEntropyLoss(), 0.996, 0.996, 0.996, 0.996, 0.998, 1.0, 0.998, 0.996, 0.997, 1.0, 0.997, 0.995, 0.991, 1.0, 0.991, 0.983, 0.998, 0.999, 0.998, 0.998, 0.999, 1.0, 0.999, 0.998]\n",
      "CWE789  Round:  0\n",
      "../juliet/prep/CWE789\n",
      "generating asts...\n",
      "generating trees...\n",
      "training word2vec...\n",
      "generating graphs...\n",
      "balancing dataset (pass 1)\n",
      "Number of good methods:  2466  Number of bad methods:  2466\n",
      "splitting dataset\n",
      "Epoch:  39\n",
      "['../juliet/prep/CWE789', '27/12/2020', '02:35:03', 'GCN(   (conv1): GCNConv(50, 64)   (conv2): GCNConv(64, 64)   (conv3): GCNConv(64, 64)   (lin): Linear(in_features=64, out_features=2, bias=True) )', 9685, 0.01, CrossEntropyLoss(), 0.996, 1.0, 0.996, 0.992, 1.0, 1.0, 1.0, 1.0, 1.0, 1.0, 1.0, 1.0, 1.0, 1.0, 1.0, 1.0, 1.0, 1.0, 1.0, 1.0, 1.0, 1.0, 1.0, 1.0]\n",
      "CWE470  Round:  0\n",
      "../juliet/prep/CWE470\n",
      "generating asts...\n",
      "generating trees...\n",
      "training word2vec...\n",
      "generating graphs...\n",
      "balancing dataset (pass 1)\n",
      "Number of good methods:  696  Number of bad methods:  696\n",
      "splitting dataset\n",
      "Epoch:  39\n",
      "CWE470  Round:  1\n",
      "../juliet/prep/CWE470\n",
      "generating asts...\n",
      "generating trees...\n",
      "training word2vec...\n",
      "generating graphs...\n",
      "balancing dataset (pass 1)\n",
      "Number of good methods:  696  Number of bad methods:  696\n",
      "splitting dataset\n",
      "Epoch:  39\n",
      "['../juliet/prep/CWE470', '27/12/2020', '02:39:41', 'GCN(   (conv1): GCNConv(50, 64)   (conv2): GCNConv(64, 64)   (conv3): GCNConv(64, 64)   (lin): Linear(in_features=64, out_features=2, bias=True) )', 8486, 0.01, CrossEntropyLoss(), 0.849, 0.914, 0.859, 0.81, 0.907, 0.986, 0.914, 0.852, 0.968, 0.971, 0.968, 0.965, 1.0, 1.0, 1.0, 1.0, 1.0, 1.0, 1.0, 1.0, 1.0, 1.0, 1.0, 1.0]\n",
      "CWE601  Round:  0\n",
      "../juliet/prep/CWE601\n",
      "generating asts...\n",
      "generating trees...\n",
      "training word2vec...\n",
      "generating graphs...\n",
      "balancing dataset (pass 1)\n",
      "Number of good methods:  522  Number of bad methods:  522\n",
      "splitting dataset\n",
      "Epoch:  39\n",
      "CWE601  Round:  1\n",
      "../juliet/prep/CWE601\n",
      "generating asts...\n",
      "generating trees...\n",
      "training word2vec...\n",
      "generating graphs...\n",
      "balancing dataset (pass 1)\n",
      "Number of good methods:  522  Number of bad methods:  522\n",
      "splitting dataset\n",
      "Epoch:  39\n",
      "CWE601  Round:  2\n",
      "../juliet/prep/CWE601\n",
      "generating asts...\n",
      "generating trees...\n",
      "training word2vec...\n",
      "generating graphs...\n",
      "balancing dataset (pass 1)\n",
      "Number of good methods:  522  Number of bad methods:  522\n",
      "splitting dataset\n",
      "Epoch:  39\n",
      "['../juliet/prep/CWE601', '27/12/2020', '02:40:41', 'GCN(   (conv1): GCNConv(50, 64)   (conv2): GCNConv(64, 64)   (conv3): GCNConv(64, 64)   (lin): Linear(in_features=64, out_features=2, bias=True) )', 1863, 0.01, CrossEntropyLoss(), 0.689, 0.514, 0.629, 0.809, 0.909, 0.991, 0.918, 0.855, 0.914, 0.963, 0.92, 0.88, 0.914, 1.0, 0.922, 0.856, 0.957, 0.981, 0.959, 0.938, 0.971, 0.981, 0.972, 0.963]\n",
      "CWE606  Round:  0\n",
      "../juliet/prep/CWE606\n",
      "generating asts...\n",
      "generating trees...\n",
      "training word2vec...\n",
      "generating graphs...\n",
      "balancing dataset (pass 1)\n",
      "balancing dataset (pass 2)\n",
      "Number of good methods:  1248  Number of bad methods:  1248\n",
      "splitting dataset\n",
      "Epoch:  39\n",
      "['../juliet/prep/CWE606', '27/12/2020', '02:43:44', 'GCN(   (conv1): GCNConv(50, 64)   (conv2): GCNConv(64, 64)   (conv3): GCNConv(64, 64)   (lin): Linear(in_features=64, out_features=2, bias=True) )', 7131, 0.01, CrossEntropyLoss(), 0.602, 0.765, 0.655, 0.573, 0.984, 0.988, 0.984, 0.98, 0.992, 0.984, 0.992, 1.0, 1.0, 1.0, 1.0, 1.0, 1.0, 1.0, 1.0, 1.0, 1.0, 1.0, 1.0, 1.0]\n",
      "CWE80  Round:  0\n",
      "../juliet/prep/CWE80\n",
      "generating asts...\n",
      "generating trees...\n",
      "training word2vec...\n",
      "generating graphs...\n",
      "balancing dataset (pass 1)\n",
      "Number of good methods:  1044  Number of bad methods:  1044\n",
      "splitting dataset\n",
      "Epoch:  39\n",
      "CWE80  Round:  1\n",
      "../juliet/prep/CWE80\n",
      "generating asts...\n",
      "generating trees...\n",
      "training word2vec...\n",
      "generating graphs...\n",
      "balancing dataset (pass 1)\n",
      "Number of good methods:  1044  Number of bad methods:  1044\n",
      "splitting dataset\n",
      "Epoch:  39\n",
      "CWE80  Round:  2\n",
      "../juliet/prep/CWE80\n",
      "generating asts...\n",
      "generating trees...\n",
      "training word2vec...\n",
      "generating graphs...\n",
      "balancing dataset (pass 1)\n",
      "Number of good methods:  1044  Number of bad methods:  1044\n",
      "splitting dataset\n",
      "Epoch:  39\n",
      "['../juliet/prep/CWE80', '27/12/2020', '02:49:54', 'GCN(   (conv1): GCNConv(50, 64)   (conv2): GCNConv(64, 64)   (conv3): GCNConv(64, 64)   (lin): Linear(in_features=64, out_features=2, bias=True) )', 9943, 0.01, CrossEntropyLoss(), 0.849, 0.925, 0.869, 0.82, 0.907, 0.991, 0.92, 0.858, 0.947, 0.96, 0.952, 0.943, 0.967, 0.973, 0.969, 0.965, 0.988, 0.978, 0.989, 1.0, 0.998, 0.996, 0.998, 1.0]\n",
      "CWE319  Round:  0\n",
      "../juliet/prep/CWE319\n",
      "generating asts...\n",
      "generating trees...\n",
      "training word2vec...\n",
      "generating graphs...\n",
      "balancing dataset (pass 1)\n",
      "balancing dataset (pass 2)\n",
      "Number of good methods:  1040  Number of bad methods:  1040\n",
      "splitting dataset\n",
      "Epoch:  39\n",
      "['../juliet/prep/CWE319', '27/12/2020', '02:51:41', 'GCN(   (conv1): GCNConv(50, 64)   (conv2): GCNConv(64, 64)   (conv3): GCNConv(64, 64)   (lin): Linear(in_features=64, out_features=2, bias=True) )', 5462, 0.01, CrossEntropyLoss(), 0.837, 0.758, 0.825, 0.904, 0.841, 0.701, 0.818, 0.98, 1.0, 1.0, 1.0, 1.0, 1.0, 1.0, 1.0, 1.0, 1.0, 1.0, 1.0, 1.0, 1.0, 1.0, 1.0, 1.0]\n",
      "CWE369  Round:  0\n",
      "../juliet/prep/CWE369\n",
      "generating asts...\n",
      "generating trees...\n",
      "training word2vec...\n",
      "generating graphs...\n",
      "balancing dataset (pass 1)\n",
      "balancing dataset (pass 2)\n",
      "Number of good methods:  5200  Number of bad methods:  5200\n",
      "splitting dataset\n"
     ]
    },
    {
     "name": "stdout",
     "output_type": "stream",
     "text": [
      "Epoch:  39\n",
      "CWE369  Round:  1\n",
      "../juliet/prep/CWE369\n",
      "generating asts...\n",
      "generating trees...\n",
      "training word2vec...\n",
      "generating graphs...\n",
      "balancing dataset (pass 1)\n",
      "balancing dataset (pass 2)\n",
      "Number of good methods:  5200  Number of bad methods:  5200\n",
      "splitting dataset\n",
      "Epoch:  39\n",
      "['../juliet/prep/CWE369', '27/12/2020', '03:06:27', 'GCN(   (conv1): GCNConv(50, 64)   (conv2): GCNConv(64, 64)   (conv3): GCNConv(64, 64)   (lin): Linear(in_features=64, out_features=2, bias=True) )', 70, 0.01, CrossEntropyLoss(), 0.993, 0.988, 0.993, 0.997, 0.998, 1.0, 0.998, 0.995, 0.98, 0.996, 0.98, 0.964, 0.997, 0.999, 0.997, 0.995, 1.0, 1.0, 1.0, 1.0, 1.0, 1.0, 1.0, 1.0]\n",
      "CWE113  Round:  0\n",
      "../juliet/prep/CWE113\n",
      "generating asts...\n",
      "generating trees...\n",
      "training word2vec...\n",
      "generating graphs...\n",
      "balancing dataset (pass 1)\n",
      "balancing dataset (pass 2)\n",
      "Number of good methods:  3744  Number of bad methods:  3744\n",
      "splitting dataset\n",
      "Epoch:  39\n",
      "['../juliet/prep/CWE113', '27/12/2020', '03:17:08', 'GCN(   (conv1): GCNConv(50, 64)   (conv2): GCNConv(64, 64)   (conv3): GCNConv(64, 64)   (lin): Linear(in_features=64, out_features=2, bias=True) )', 345, 0.01, CrossEntropyLoss(), 0.923, 0.945, 0.924, 0.905, 1.0, 1.0, 1.0, 1.0, 1.0, 1.0, 1.0, 1.0, 0.999, 1.0, 0.999, 0.997, 1.0, 1.0, 1.0, 1.0, 1.0, 1.0, 1.0, 1.0]\n",
      "CWE81  Round:  0\n",
      "../juliet/prep/CWE81\n",
      "generating asts...\n",
      "generating trees...\n",
      "training word2vec...\n",
      "generating graphs...\n",
      "balancing dataset (pass 1)\n",
      "Number of good methods:  522  Number of bad methods:  522\n",
      "splitting dataset\n",
      "Epoch:  39\r"
     ]
    },
    {
     "name": "stderr",
     "output_type": "stream",
     "text": [
      "/home/gparte1/.local/lib/python3.6/site-packages/ipykernel_launcher.py:82: RuntimeWarning: More than 20 figures have been opened. Figures created through the pyplot interface (`matplotlib.pyplot.figure`) are retained until explicitly closed and may consume too much memory. (To control this warning, see the rcParam `figure.max_open_warning`).\n"
     ]
    },
    {
     "name": "stdout",
     "output_type": "stream",
     "text": [
      "\n",
      "CWE81  Round:  1\n",
      "../juliet/prep/CWE81\n",
      "generating asts...\n",
      "generating trees...\n",
      "training word2vec...\n",
      "generating graphs...\n",
      "balancing dataset (pass 1)\n",
      "Number of good methods:  522  Number of bad methods:  522\n",
      "splitting dataset\n",
      "Epoch:  39\n",
      "CWE81  Round:  2\n",
      "../juliet/prep/CWE81\n",
      "generating asts...\n",
      "generating trees...\n",
      "training word2vec...\n",
      "generating graphs...\n",
      "balancing dataset (pass 1)\n",
      "Number of good methods:  522  Number of bad methods:  522\n",
      "splitting dataset\n",
      "Epoch:  39\n",
      "['../juliet/prep/CWE81', '27/12/2020', '03:24:05', 'GCN(   (conv1): GCNConv(50, 64)   (conv2): GCNConv(64, 64)   (conv3): GCNConv(64, 64)   (lin): Linear(in_features=64, out_features=2, bias=True) )', 9218, 0.01, CrossEntropyLoss(), 0.823, 0.97, 0.84, 0.74, 0.876, 0.94, 0.879, 0.825, 0.876, 0.97, 0.882, 0.808, 0.957, 0.99, 0.957, 0.925, 0.952, 0.96, 0.95, 0.941, 0.967, 0.98, 0.966, 0.951]\n",
      "CWE563  Round:  0\n",
      "../juliet/prep/CWE563\n",
      "generating asts...\n",
      "generating trees...\n",
      "training word2vec...\n",
      "generating graphs...\n",
      "balancing dataset (pass 1)\n",
      "balancing dataset (pass 2)\n",
      "Number of good methods:  498  Number of bad methods:  498\n",
      "splitting dataset\n",
      "Epoch:  39\n",
      "CWE563  Round:  1\n",
      "../juliet/prep/CWE563\n",
      "generating asts...\n",
      "generating trees...\n",
      "training word2vec...\n",
      "generating graphs...\n",
      "balancing dataset (pass 1)\n",
      "balancing dataset (pass 2)\n",
      "Number of good methods:  498  Number of bad methods:  498\n",
      "splitting dataset\n",
      "Epoch:  39\n",
      "CWE563  Round:  2\n",
      "../juliet/prep/CWE563\n",
      "generating asts...\n",
      "generating trees...\n",
      "training word2vec...\n",
      "generating graphs...\n",
      "balancing dataset (pass 1)\n",
      "balancing dataset (pass 2)\n",
      "Number of good methods:  498  Number of bad methods:  498\n",
      "splitting dataset\n",
      "Epoch:  39\n",
      "['../juliet/prep/CWE563', '27/12/2020', '03:27:14', 'GCN(   (conv1): GCNConv(50, 64)   (conv2): GCNConv(64, 64)   (conv3): GCNConv(64, 64)   (lin): Linear(in_features=64, out_features=2, bias=True) )', 4252, 0.01, CrossEntropyLoss(), 0.775, 0.9, 0.8, 0.72, 0.765, 0.67, 0.74, 0.827, 0.83, 0.86, 0.835, 0.811, 0.71, 0.47, 0.618, 0.904, 0.84, 0.84, 0.84, 0.84, 0.845, 0.84, 0.844, 0.848]\n",
      "CWE506  Round:  0\n",
      "../juliet/prep/CWE506\n",
      "generating asts...\n",
      "generating trees...\n",
      "training word2vec...\n",
      "generating graphs...\n",
      "balancing dataset (pass 1)\n",
      "Number of good methods:  116  Number of bad methods:  116\n",
      "splitting dataset\n",
      "Epoch:  39\n",
      "CWE506  Round:  1\n",
      "../juliet/prep/CWE506\n",
      "generating asts...\n",
      "generating trees...\n",
      "training word2vec...\n",
      "generating graphs...\n",
      "balancing dataset (pass 1)\n",
      "Number of good methods:  116  Number of bad methods:  116\n",
      "splitting dataset\n",
      "Epoch:  39\n",
      "CWE506  Round:  2\n",
      "../juliet/prep/CWE506\n",
      "generating asts...\n",
      "generating trees...\n",
      "training word2vec...\n",
      "generating graphs...\n",
      "balancing dataset (pass 1)\n",
      "Number of good methods:  116  Number of bad methods:  116\n",
      "splitting dataset\n",
      "Epoch:  39\n",
      "['../juliet/prep/CWE506', '27/12/2020', '03:28:03', 'GCN(   (conv1): GCNConv(50, 64)   (conv2): GCNConv(64, 64)   (conv3): GCNConv(64, 64)   (lin): Linear(in_features=64, out_features=2, bias=True) )', 7800, 0.01, CrossEntropyLoss(), 0.787, 0.84, 0.808, 0.778, 0.745, 0.68, 0.739, 0.81, 0.723, 0.68, 0.723, 0.773, 0.872, 0.88, 0.88, 0.88, 0.979, 1.0, 0.98, 0.962, 0.957, 0.96, 0.96, 0.96]\n",
      "CWE89  Round:  0\n",
      "../juliet/prep/CWE89\n",
      "generating asts...\n",
      "generating trees...\n",
      "training word2vec...\n",
      "generating graphs...\n",
      "balancing dataset (pass 1)\n",
      "balancing dataset (pass 2)\n",
      "Number of good methods:  6240  Number of bad methods:  6240\n",
      "splitting dataset\n",
      "Epoch:  39\n",
      "['../juliet/prep/CWE89', '27/12/2020', '03:29:34', 'GCN(   (conv1): GCNConv(50, 64)   (conv2): GCNConv(64, 64)   (conv3): GCNConv(64, 64)   (lin): Linear(in_features=64, out_features=2, bias=True) )', 685, 0.01, CrossEntropyLoss(), 0.994, 0.99, 0.994, 0.998, 1.0, 1.0, 1.0, 1.0, 1.0, 1.0, 1.0, 1.0, 1.0, 1.0, 1.0, 1.0, 1.0, 1.0, 1.0, 1.0, 1.0, 1.0, 1.0, 1.0]\n",
      ".ipynb_checkpoints  Round:  0\n",
      "../juliet/prep/.ipynb_checkpoints\n",
      "generating asts...\n",
      "generating trees...\n",
      "training word2vec...\n",
      "failed for ../juliet/prep/.ipynb_checkpoints\n",
      "CWE690  Round:  0\n",
      "../juliet/prep/CWE690\n",
      "generating asts...\n",
      "generating trees...\n",
      "training word2vec...\n",
      "generating graphs...\n",
      "balancing dataset (pass 1)\n",
      "balancing dataset (pass 2)\n",
      "Number of good methods:  832  Number of bad methods:  832\n",
      "splitting dataset\n",
      "Epoch:  39\n",
      "CWE690  Round:  1\n",
      "../juliet/prep/CWE690\n",
      "generating asts...\n",
      "generating trees...\n",
      "training word2vec...\n",
      "generating graphs...\n",
      "balancing dataset (pass 1)\n",
      "balancing dataset (pass 2)\n",
      "Number of good methods:  832  Number of bad methods:  832\n",
      "splitting dataset\n",
      "Epoch:  39\n",
      "['../juliet/prep/CWE690', '27/12/2020', '03:49:01', 'GCN(   (conv1): GCNConv(50, 64)   (conv2): GCNConv(64, 64)   (conv3): GCNConv(64, 64)   (lin): Linear(in_features=64, out_features=2, bias=True) )', 785, 0.01, CrossEntropyLoss(), 0.526, 0.282, 0.378, 0.571, 0.538, 0.753, 0.624, 0.533, 0.592, 0.853, 0.681, 0.566, 0.997, 0.994, 0.997, 1.0, 1.0, 1.0, 1.0, 1.0, 1.0, 1.0, 1.0, 1.0]\n",
      "CWE643  Round:  0\n",
      "../juliet/prep/CWE643\n",
      "generating asts...\n",
      "generating trees...\n",
      "training word2vec...\n",
      "generating graphs...\n",
      "balancing dataset (pass 1)\n",
      "balancing dataset (pass 2)\n",
      "Number of good methods:  1248  Number of bad methods:  1248\n",
      "splitting dataset\n",
      "Epoch:  39\n",
      "['../juliet/prep/CWE643', '27/12/2020', '03:50:11', 'GCN(   (conv1): GCNConv(50, 64)   (conv2): GCNConv(64, 64)   (conv3): GCNConv(64, 64)   (lin): Linear(in_features=64, out_features=2, bias=True) )', 6787, 0.01, CrossEntropyLoss(), 0.612, 0.774, 0.638, 0.543, 0.99, 0.986, 0.989, 0.991, 1.0, 1.0, 1.0, 1.0, 1.0, 1.0, 1.0, 1.0, 1.0, 1.0, 1.0, 1.0, 1.0, 1.0, 1.0, 1.0]\n",
      "CWE398  Round:  0\n",
      "../juliet/prep/CWE398\n",
      "generating asts...\n",
      "generating trees...\n",
      "training word2vec...\n",
      "generating graphs...\n",
      "balancing dataset (pass 1)\n",
      "Number of good methods:  241  Number of bad methods:  241\n",
      "splitting dataset\n",
      "Epoch:  39\n",
      "CWE398  Round:  1\n",
      "../juliet/prep/CWE398\n",
      "generating asts...\n",
      "generating trees...\n",
      "training word2vec...\n",
      "generating graphs...\n",
      "balancing dataset (pass 1)\n",
      "Number of good methods:  241  Number of bad methods:  241\n",
      "splitting dataset\n",
      "Epoch:  39\n",
      "CWE398  Round:  2\n",
      "../juliet/prep/CWE398\n",
      "generating asts...\n",
      "generating trees...\n",
      "training word2vec...\n",
      "generating graphs...\n",
      "balancing dataset (pass 1)\n",
      "Number of good methods:  241  Number of bad methods:  241\n",
      "splitting dataset\n",
      "Epoch:  39\n",
      "['../juliet/prep/CWE398', '27/12/2020', '03:54:40', 'GCN(   (conv1): GCNConv(50, 64)   (conv2): GCNConv(64, 64)   (conv3): GCNConv(64, 64)   (lin): Linear(in_features=64, out_features=2, bias=True) )', 4893, 0.01, CrossEntropyLoss(), 0.443, 0.136, 0.229, 0.727, 0.639, 0.847, 0.741, 0.658, 0.67, 0.966, 0.781, 0.655, 0.629, 0.525, 0.633, 0.795, 0.722, 0.695, 0.752, 0.82, 0.753, 0.797, 0.797, 0.797]\n",
      "CWE400  Round:  0\n",
      "../juliet/prep/CWE400\n",
      "generating asts...\n",
      "generating trees...\n",
      "training word2vec...\n",
      "generating graphs...\n",
      "balancing dataset (pass 1)\n",
      "balancing dataset (pass 2)\n",
      "Number of good methods:  4086  Number of bad methods:  4086\n",
      "splitting dataset\n",
      "Epoch:  39\n",
      "['../juliet/prep/CWE400', '27/12/2020', '03:55:32', 'GCN(   (conv1): GCNConv(50, 64)   (conv2): GCNConv(64, 64)   (conv3): GCNConv(64, 64)   (lin): Linear(in_features=64, out_features=2, bias=True) )', 7016, 0.01, CrossEntropyLoss(), 0.992, 1.0, 0.992, 0.984, 0.996, 0.991, 0.996, 1.0, 1.0, 1.0, 1.0, 1.0, 1.0, 1.0, 1.0, 1.0, 1.0, 1.0, 1.0, 1.0, 1.0, 1.0, 1.0, 1.0]\n",
      "CWE36  Round:  0\n",
      "../juliet/prep/CWE36\n",
      "generating asts...\n",
      "generating trees...\n",
      "training word2vec...\n",
      "generating graphs...\n",
      "balancing dataset (pass 1)\n",
      "Number of good methods:  696  Number of bad methods:  696\n",
      "splitting dataset\n",
      "Epoch:  39\n",
      "['../juliet/prep/CWE36', '27/12/2020', '04:06:18', 'GCN(   (conv1): GCNConv(50, 64)   (conv2): GCNConv(64, 64)   (conv3): GCNConv(64, 64)   (lin): Linear(in_features=64, out_features=2, bias=True) )', 854, 0.01, CrossEntropyLoss(), 0.57, 0.255, 0.388, 0.809, 0.95, 1.0, 0.955, 0.914, 0.971, 1.0, 0.974, 0.949, 1.0, 1.0, 1.0, 1.0, 1.0, 1.0, 1.0, 1.0, 1.0, 1.0, 1.0, 1.0]\n",
      "CWE197  Round:  0\n",
      "../juliet/prep/CWE197\n",
      "generating asts...\n",
      "generating trees...\n",
      "training word2vec...\n",
      "generating graphs...\n",
      "balancing dataset (pass 1)\n",
      "Number of good methods:  1914  Number of bad methods:  1914\n",
      "splitting dataset\n",
      "Epoch:  39\n",
      "['../juliet/prep/CWE197', '27/12/2020', '04:08:49', 'GCN(   (conv1): GCNConv(50, 64)   (conv2): GCNConv(64, 64)   (conv3): GCNConv(64, 64)   (lin): Linear(in_features=64, out_features=2, bias=True) )', 7554, 0.01, CrossEntropyLoss(), 0.978, 1.0, 0.977, 0.955, 0.997, 1.0, 0.997, 0.994, 0.999, 1.0, 0.999, 0.997, 1.0, 1.0, 1.0, 1.0, 1.0, 1.0, 1.0, 1.0, 1.0, 1.0, 1.0, 1.0]\n",
      "CWE78  Round:  0\n",
      "../juliet/prep/CWE78\n",
      "generating asts...\n"
     ]
    },
    {
     "name": "stdout",
     "output_type": "stream",
     "text": [
      "generating trees...\n",
      "training word2vec...\n",
      "generating graphs...\n",
      "balancing dataset (pass 1)\n",
      "Number of good methods:  696  Number of bad methods:  696\n",
      "splitting dataset\n",
      "Epoch:  39\n",
      "CWE78  Round:  1\n",
      "../juliet/prep/CWE78\n",
      "generating asts...\n",
      "generating trees...\n",
      "training word2vec...\n",
      "generating graphs...\n",
      "balancing dataset (pass 1)\n",
      "Number of good methods:  696  Number of bad methods:  696\n",
      "splitting dataset\n",
      "Epoch:  39\n",
      "CWE78  Round:  2\n",
      "../juliet/prep/CWE78\n",
      "generating asts...\n",
      "generating trees...\n",
      "training word2vec...\n",
      "generating graphs...\n",
      "balancing dataset (pass 1)\n",
      "Number of good methods:  696  Number of bad methods:  696\n",
      "splitting dataset\n",
      "Epoch:  39\n",
      "['../juliet/prep/CWE78', '27/12/2020', '04:13:55', 'GCN(   (conv1): GCNConv(50, 64)   (conv2): GCNConv(64, 64)   (conv3): GCNConv(64, 64)   (lin): Linear(in_features=64, out_features=2, bias=True) )', 3668, 0.01, CrossEntropyLoss(), 0.803, 0.796, 0.81, 0.824, 0.867, 0.993, 0.888, 0.802, 0.978, 0.966, 0.979, 0.993, 0.989, 0.98, 0.99, 1.0, 1.0, 1.0, 1.0, 1.0, 1.0, 1.0, 1.0, 1.0]\n",
      "CWE259  Round:  0\n",
      "../juliet/prep/CWE259\n",
      "generating asts...\n",
      "generating trees...\n",
      "training word2vec...\n",
      "generating graphs...\n",
      "balancing dataset (pass 1)\n",
      "Number of good methods:  174  Number of bad methods:  174\n",
      "splitting dataset\n",
      "Epoch:  39\n",
      "CWE259  Round:  1\n",
      "../juliet/prep/CWE259\n",
      "generating asts...\n",
      "generating trees...\n",
      "training word2vec...\n",
      "generating graphs...\n",
      "balancing dataset (pass 1)\n",
      "Number of good methods:  174  Number of bad methods:  174\n",
      "splitting dataset\n",
      "Epoch:  39\n",
      "CWE259  Round:  2\n",
      "../juliet/prep/CWE259\n",
      "generating asts...\n",
      "generating trees...\n",
      "training word2vec...\n",
      "generating graphs...\n",
      "balancing dataset (pass 1)\n",
      "Number of good methods:  174  Number of bad methods:  174\n",
      "splitting dataset\n",
      "Epoch:  39\n",
      "['../juliet/prep/CWE259', '27/12/2020', '04:15:30', 'GCN(   (conv1): GCNConv(50, 64)   (conv2): GCNConv(64, 64)   (conv3): GCNConv(64, 64)   (lin): Linear(in_features=64, out_features=2, bias=True) )', 9844, 0.01, CrossEntropyLoss(), 0.957, 0.944, 0.958, 0.971, 0.986, 0.972, 0.986, 1.0, 0.986, 0.972, 0.986, 1.0, 0.986, 0.972, 0.986, 1.0, 0.986, 0.972, 0.986, 1.0, 0.986, 0.972, 0.986, 1.0]\n",
      "CWE191  Round:  0\n",
      "../juliet/prep/CWE191\n",
      "generating asts...\n",
      "generating trees...\n",
      "training word2vec...\n",
      "generating graphs...\n",
      "balancing dataset (pass 1)\n",
      "balancing dataset (pass 2)\n",
      "Number of good methods:  9568  Number of bad methods:  9568\n",
      "splitting dataset\n",
      "Epoch:  39\n",
      "['../juliet/prep/CWE191', '27/12/2020', '04:17:14', 'GCN(   (conv1): GCNConv(50, 64)   (conv2): GCNConv(64, 64)   (conv3): GCNConv(64, 64)   (lin): Linear(in_features=64, out_features=2, bias=True) )', 5375, 0.01, CrossEntropyLoss(), 0.986, 1.0, 0.986, 0.973, 1.0, 1.0, 1.0, 1.0, 0.998, 0.997, 0.998, 1.0, 1.0, 1.0, 1.0, 1.0, 1.0, 1.0, 1.0, 1.0, 1.0, 1.0, 1.0, 1.0]\n",
      "CWE83  Round:  0\n",
      "../juliet/prep/CWE83\n",
      "generating asts...\n",
      "generating trees...\n",
      "training word2vec...\n",
      "generating graphs...\n",
      "balancing dataset (pass 1)\n",
      "Number of good methods:  522  Number of bad methods:  522\n",
      "splitting dataset\n",
      "Epoch:  39\n",
      "CWE83  Round:  1\n",
      "../juliet/prep/CWE83\n",
      "generating asts...\n",
      "generating trees...\n",
      "training word2vec...\n",
      "generating graphs...\n",
      "balancing dataset (pass 1)\n",
      "Number of good methods:  522  Number of bad methods:  522\n",
      "splitting dataset\n",
      "Epoch:  39\n",
      "CWE83  Round:  2\n",
      "../juliet/prep/CWE83\n",
      "generating asts...\n",
      "generating trees...\n",
      "training word2vec...\n",
      "generating graphs...\n",
      "balancing dataset (pass 1)\n",
      "Number of good methods:  522  Number of bad methods:  522\n",
      "splitting dataset\n",
      "Epoch:  39\n",
      "['../juliet/prep/CWE83', '27/12/2020', '04:33:15', 'GCN(   (conv1): GCNConv(50, 64)   (conv2): GCNConv(64, 64)   (conv3): GCNConv(64, 64)   (lin): Linear(in_features=64, out_features=2, bias=True) )', 7715, 0.01, CrossEntropyLoss(), 0.866, 0.956, 0.885, 0.824, 0.871, 0.991, 0.892, 0.812, 0.957, 0.965, 0.96, 0.956, 0.952, 0.938, 0.955, 0.972, 0.933, 0.885, 0.935, 0.99, 0.967, 0.973, 0.969, 0.965]\n",
      "CWE15  Round:  0\n",
      "../juliet/prep/CWE15\n",
      "generating asts...\n",
      "generating trees...\n",
      "training word2vec...\n",
      "generating graphs...\n",
      "balancing dataset (pass 1)\n",
      "Number of good methods:  696  Number of bad methods:  696\n",
      "splitting dataset\n",
      "Epoch:  39\n",
      "['../juliet/prep/CWE15', '27/12/2020', '04:35:54', 'GCN(   (conv1): GCNConv(50, 64)   (conv2): GCNConv(64, 64)   (conv3): GCNConv(64, 64)   (lin): Linear(in_features=64, out_features=2, bias=True) )', 2255, 0.01, CrossEntropyLoss(), 0.778, 0.864, 0.786, 0.722, 0.796, 0.992, 0.821, 0.701, 0.968, 0.962, 0.966, 0.969, 1.0, 1.0, 1.0, 1.0, 1.0, 1.0, 1.0, 1.0, 1.0, 1.0, 1.0, 1.0]\n",
      "CWE134  Round:  0\n",
      "../juliet/prep/CWE134\n",
      "generating asts...\n",
      "generating trees...\n",
      "training word2vec...\n",
      "generating graphs...\n",
      "balancing dataset (pass 1)\n",
      "balancing dataset (pass 2)\n",
      "Number of good methods:  1872  Number of bad methods:  1872\n",
      "splitting dataset\n",
      "Epoch:  39\n",
      "['../juliet/prep/CWE134', '27/12/2020', '04:37:16', 'GCN(   (conv1): GCNConv(50, 64)   (conv2): GCNConv(64, 64)   (conv3): GCNConv(64, 64)   (lin): Linear(in_features=64, out_features=2, bias=True) )', 9954, 0.01, CrossEntropyLoss(), 0.768, 0.595, 0.722, 0.919, 0.999, 1.0, 0.999, 0.997, 0.999, 0.997, 0.999, 1.0, 1.0, 1.0, 1.0, 1.0, 1.0, 1.0, 1.0, 1.0, 1.0, 1.0, 1.0, 1.0]\n",
      "Done\n"
     ]
    },
    {
     "data": {
      "text/plain": [
       "<Figure size 1440x720 with 0 Axes>"
      ]
     },
     "metadata": {},
     "output_type": "display_data"
    },
    {
     "data": {
      "text/plain": [
       "<Figure size 1440x720 with 0 Axes>"
      ]
     },
     "metadata": {},
     "output_type": "display_data"
    },
    {
     "data": {
      "text/plain": [
       "<Figure size 1440x720 with 0 Axes>"
      ]
     },
     "metadata": {},
     "output_type": "display_data"
    },
    {
     "data": {
      "text/plain": [
       "<Figure size 1440x720 with 0 Axes>"
      ]
     },
     "metadata": {},
     "output_type": "display_data"
    },
    {
     "data": {
      "text/plain": [
       "<Figure size 1440x720 with 0 Axes>"
      ]
     },
     "metadata": {},
     "output_type": "display_data"
    },
    {
     "data": {
      "text/plain": [
       "<Figure size 1440x720 with 0 Axes>"
      ]
     },
     "metadata": {},
     "output_type": "display_data"
    },
    {
     "data": {
      "text/plain": [
       "<Figure size 1440x720 with 0 Axes>"
      ]
     },
     "metadata": {},
     "output_type": "display_data"
    },
    {
     "data": {
      "text/plain": [
       "<Figure size 1440x720 with 0 Axes>"
      ]
     },
     "metadata": {},
     "output_type": "display_data"
    },
    {
     "data": {
      "text/plain": [
       "<Figure size 1440x720 with 0 Axes>"
      ]
     },
     "metadata": {},
     "output_type": "display_data"
    },
    {
     "data": {
      "text/plain": [
       "<Figure size 1440x720 with 0 Axes>"
      ]
     },
     "metadata": {},
     "output_type": "display_data"
    },
    {
     "data": {
      "text/plain": [
       "<Figure size 1440x720 with 0 Axes>"
      ]
     },
     "metadata": {},
     "output_type": "display_data"
    },
    {
     "data": {
      "text/plain": [
       "<Figure size 1440x720 with 0 Axes>"
      ]
     },
     "metadata": {},
     "output_type": "display_data"
    },
    {
     "data": {
      "text/plain": [
       "<Figure size 1440x720 with 0 Axes>"
      ]
     },
     "metadata": {},
     "output_type": "display_data"
    },
    {
     "data": {
      "text/plain": [
       "<Figure size 1440x720 with 0 Axes>"
      ]
     },
     "metadata": {},
     "output_type": "display_data"
    },
    {
     "data": {
      "text/plain": [
       "<Figure size 1440x720 with 0 Axes>"
      ]
     },
     "metadata": {},
     "output_type": "display_data"
    },
    {
     "data": {
      "text/plain": [
       "<Figure size 1440x720 with 0 Axes>"
      ]
     },
     "metadata": {},
     "output_type": "display_data"
    },
    {
     "data": {
      "text/plain": [
       "<Figure size 1440x720 with 0 Axes>"
      ]
     },
     "metadata": {},
     "output_type": "display_data"
    },
    {
     "data": {
      "text/plain": [
       "<Figure size 1440x720 with 0 Axes>"
      ]
     },
     "metadata": {},
     "output_type": "display_data"
    },
    {
     "data": {
      "text/plain": [
       "<Figure size 1440x720 with 0 Axes>"
      ]
     },
     "metadata": {},
     "output_type": "display_data"
    },
    {
     "data": {
      "text/plain": [
       "<Figure size 1440x720 with 0 Axes>"
      ]
     },
     "metadata": {},
     "output_type": "display_data"
    },
    {
     "data": {
      "text/plain": [
       "<Figure size 1440x720 with 0 Axes>"
      ]
     },
     "metadata": {},
     "output_type": "display_data"
    },
    {
     "data": {
      "text/plain": [
       "<Figure size 1440x720 with 0 Axes>"
      ]
     },
     "metadata": {},
     "output_type": "display_data"
    },
    {
     "data": {
      "text/plain": [
       "<Figure size 1440x720 with 0 Axes>"
      ]
     },
     "metadata": {},
     "output_type": "display_data"
    },
    {
     "data": {
      "text/plain": [
       "<Figure size 1440x720 with 0 Axes>"
      ]
     },
     "metadata": {},
     "output_type": "display_data"
    },
    {
     "data": {
      "text/plain": [
       "<Figure size 1440x720 with 0 Axes>"
      ]
     },
     "metadata": {},
     "output_type": "display_data"
    },
    {
     "data": {
      "text/plain": [
       "<Figure size 1440x720 with 0 Axes>"
      ]
     },
     "metadata": {},
     "output_type": "display_data"
    },
    {
     "data": {
      "text/plain": [
       "<Figure size 1440x720 with 0 Axes>"
      ]
     },
     "metadata": {},
     "output_type": "display_data"
    },
    {
     "data": {
      "text/plain": [
       "<Figure size 1440x720 with 0 Axes>"
      ]
     },
     "metadata": {},
     "output_type": "display_data"
    },
    {
     "data": {
      "text/plain": [
       "<Figure size 1440x720 with 0 Axes>"
      ]
     },
     "metadata": {},
     "output_type": "display_data"
    },
    {
     "data": {
      "text/plain": [
       "<Figure size 1440x720 with 0 Axes>"
      ]
     },
     "metadata": {},
     "output_type": "display_data"
    },
    {
     "data": {
      "text/plain": [
       "<Figure size 1440x720 with 0 Axes>"
      ]
     },
     "metadata": {},
     "output_type": "display_data"
    },
    {
     "data": {
      "text/plain": [
       "<Figure size 1440x720 with 0 Axes>"
      ]
     },
     "metadata": {},
     "output_type": "display_data"
    },
    {
     "data": {
      "text/plain": [
       "<Figure size 1440x720 with 0 Axes>"
      ]
     },
     "metadata": {},
     "output_type": "display_data"
    },
    {
     "data": {
      "text/plain": [
       "<Figure size 1440x720 with 0 Axes>"
      ]
     },
     "metadata": {},
     "output_type": "display_data"
    },
    {
     "data": {
      "text/plain": [
       "<Figure size 1440x720 with 0 Axes>"
      ]
     },
     "metadata": {},
     "output_type": "display_data"
    },
    {
     "data": {
      "text/plain": [
       "<Figure size 1440x720 with 0 Axes>"
      ]
     },
     "metadata": {},
     "output_type": "display_data"
    },
    {
     "data": {
      "text/plain": [
       "<Figure size 1440x720 with 0 Axes>"
      ]
     },
     "metadata": {},
     "output_type": "display_data"
    },
    {
     "data": {
      "text/plain": [
       "<Figure size 1440x720 with 0 Axes>"
      ]
     },
     "metadata": {},
     "output_type": "display_data"
    },
    {
     "data": {
      "text/plain": [
       "<Figure size 1440x720 with 0 Axes>"
      ]
     },
     "metadata": {},
     "output_type": "display_data"
    },
    {
     "data": {
      "text/plain": [
       "<Figure size 1440x720 with 0 Axes>"
      ]
     },
     "metadata": {},
     "output_type": "display_data"
    },
    {
     "data": {
      "text/plain": [
       "<Figure size 1440x720 with 0 Axes>"
      ]
     },
     "metadata": {},
     "output_type": "display_data"
    },
    {
     "data": {
      "text/plain": [
       "<Figure size 1440x720 with 0 Axes>"
      ]
     },
     "metadata": {},
     "output_type": "display_data"
    },
    {
     "data": {
      "text/plain": [
       "<Figure size 1440x720 with 0 Axes>"
      ]
     },
     "metadata": {},
     "output_type": "display_data"
    },
    {
     "data": {
      "text/plain": [
       "<Figure size 1440x720 with 0 Axes>"
      ]
     },
     "metadata": {},
     "output_type": "display_data"
    },
    {
     "data": {
      "text/plain": [
       "<Figure size 1440x720 with 0 Axes>"
      ]
     },
     "metadata": {},
     "output_type": "display_data"
    },
    {
     "data": {
      "text/plain": [
       "<Figure size 1440x720 with 0 Axes>"
      ]
     },
     "metadata": {},
     "output_type": "display_data"
    },
    {
     "data": {
      "text/plain": [
       "<Figure size 1440x720 with 0 Axes>"
      ]
     },
     "metadata": {},
     "output_type": "display_data"
    },
    {
     "data": {
      "text/plain": [
       "<Figure size 1440x720 with 0 Axes>"
      ]
     },
     "metadata": {},
     "output_type": "display_data"
    },
    {
     "data": {
      "text/plain": [
       "<Figure size 1440x720 with 0 Axes>"
      ]
     },
     "metadata": {},
     "output_type": "display_data"
    },
    {
     "data": {
      "text/plain": [
       "<Figure size 1440x720 with 0 Axes>"
      ]
     },
     "metadata": {},
     "output_type": "display_data"
    },
    {
     "data": {
      "text/plain": [
       "<Figure size 1440x720 with 0 Axes>"
      ]
     },
     "metadata": {},
     "output_type": "display_data"
    }
   ],
   "source": [
    "for cwe in [x[0] for x in os.walk('../juliet/prep/')][1:]:\n",
    "    try:\n",
    "        current_time = (datetime.now()).strftime(\"%H:%M:%S\")\n",
    "        current_date = (date.today()).strftime(\"%d/%m/%Y\")\n",
    "        models = []\n",
    "        ending_acc = []\n",
    "        sps = []\n",
    "        for i in range(3):\n",
    "            print(cwe.split('/')[3], \" Round: \", i)\n",
    "            train, test = get_loaders(cwe, \"juliet\")\n",
    "            score_report, mod = learn(train, test, cwe)\n",
    "            ending_acc.append(score_report['Test Acc'][-1])\n",
    "            models.append(mod)\n",
    "            sps.append(score_report)\n",
    "            if max(ending_acc) == 1:\n",
    "                break\n",
    "        best_run = ending_acc.index(max(ending_acc))\n",
    "        score_report = sps[best_run]\n",
    "        model = models[best_run]\n",
    "        torch.save(model.state_dict(), '../models/'+str(cwe.split('/')[3])+'-'+(current_date).replace('/','')+'-'+current_time.replace('/',''))\n",
    "        row = [\n",
    "            score_report['CWE'],\n",
    "            score_report['Date'],\n",
    "            score_report['Time'],\n",
    "            score_report['Model'],\n",
    "            score_report['Seed'],\n",
    "            score_report['Learning Rate'],\n",
    "            score_report['Loss Function'],\n",
    "        ]\n",
    "        for epoch in zip(score_report['Test Acc'], score_report['Precisions'], score_report['FScores'], score_report['Recalls']):\n",
    "            for item in epoch:\n",
    "                row.append(item)\n",
    "\n",
    "        print(row)\n",
    "\n",
    "        with open('../juliet_score_report.csv','a') as fd:\n",
    "            writer = csv.writer(fd)\n",
    "            writer.writerow(row)\n",
    "    except:\n",
    "        print(\"failed for \"+cwe)\n",
    "        pass\n",
    "\n",
    "print(\"Done\")"
   ]
  },
  {
   "cell_type": "code",
   "execution_count": null,
   "metadata": {},
   "outputs": [],
   "source": []
  }
 ],
 "metadata": {
  "kernelspec": {
   "display_name": "faast",
   "language": "python",
   "name": "faast"
  },
  "language_info": {
   "codemirror_mode": {
    "name": "ipython",
    "version": 3
   },
   "file_extension": ".py",
   "mimetype": "text/x-python",
   "name": "python",
   "nbconvert_exporter": "python",
   "pygments_lexer": "ipython3",
   "version": "3.6.9"
  }
 },
 "nbformat": 4,
 "nbformat_minor": 4
}
