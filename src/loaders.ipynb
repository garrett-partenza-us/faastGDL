{
 "cells": [
  {
   "cell_type": "code",
   "execution_count": 78,
   "metadata": {},
   "outputs": [],
   "source": [
    "import torch\n",
    "import torch_geometric\n",
    "import os\n",
    "import javalang\n",
    "from javaprep import *\n",
    "from edge_index import edges\n",
    "import torch\n",
    "from torch_geometric.data import Data, DataLoader\n",
    "import random\n",
    "import networkx as nx\n",
    "from torch_geometric.utils import to_networkx\n",
    "import matplotlib.pyplot as plt\n",
    "import numpy as np\n",
    "from gensim.models import Word2Vec"
   ]
  },
  {
   "cell_type": "code",
   "execution_count": 79,
   "metadata": {},
   "outputs": [],
   "source": [
    "def get_word_embeddings():\n",
    "    sentences = []\n",
    "    for key in treedict:\n",
    "        doc = []\n",
    "        flow = treedict[key]\n",
    "        vocabulary = flow[0][0]\n",
    "        for word in vocabulary:\n",
    "            doc.append(vocabdict[word[0]])\n",
    "        sentences.append(doc)\n",
    "    model = Word2Vec(sentences, min_count=1,size= 50,workers=3, window =3, sg = 1)"
   ]
  },
  {
   "cell_type": "code",
   "execution_count": 80,
   "metadata": {},
   "outputs": [],
   "source": [
    "def generate_graphlist():\n",
    "    graphlist = []\n",
    "    for key in treedict:\n",
    "        flow = treedict[key]\n",
    "        vocabulary = flow[0][0]\n",
    "        srcs = flow[0][1][0]\n",
    "        trgs = flow[0][1][1]\n",
    "        edges = flow[0][2]\n",
    "        x = []\n",
    "        for i in range(len(set(srcs))):\n",
    "            x.append(model[(vocabdict[vocabulary[i][0]])].tolist())\n",
    "        edge_index = torch.tensor([srcs, trgs], dtype=torch.long)\n",
    "        x = torch.tensor(x, dtype=torch.float)\n",
    "        graph = Data(x=x, edge_index=edge_index, y=random.randint(0,1))\n",
    "        graphlist.append(graph)\n",
    "    return graphlist"
   ]
  },
  {
   "cell_type": "code",
   "execution_count": 81,
   "metadata": {},
   "outputs": [],
   "source": [
    "def split_dataset():\n",
    "    loader_train = DataLoader(graphlist[:int(len(graphlist)*0.7)], batch_size=32, shuffle=True)\n",
    "    loader_test = DataLoader(graphlist[int(len(graphlist)*0.7):], batch_size=32, shuffle=True)\n",
    "    return loader_train, loader_test"
   ]
  },
  {
   "cell_type": "code",
   "execution_count": 84,
   "metadata": {},
   "outputs": [],
   "source": [
    "def get_loaders():\n",
    "    device = torch.device('cuda:1')\n",
    "    (astdict, vocablen, vocabdict) = createast(dirname='../data')\n",
    "    treedict = createseparategraph(\n",
    "        astdict,\n",
    "        vocablen,\n",
    "        vocabdict,\n",
    "        device,\n",
    "        mode='astandnext',\n",
    "        nextsib=True,\n",
    "        ifedge=True,\n",
    "        whileedge=True,\n",
    "        foredge=True,\n",
    "        blockedge=True,\n",
    "        nexttoken=True,\n",
    "        nextuse=True,\n",
    "        )\n",
    "    vocabdict = {v: k for k, v in vocabdict.items()}\n",
    "    get_word_embeddings()\n",
    "    generate_graphlist()\n",
    "    return(split_dataset())\n",
    "    "
   ]
  }
 ],
 "metadata": {
  "kernelspec": {
   "display_name": "Python 3",
   "language": "python",
   "name": "python3"
  },
  "language_info": {
   "codemirror_mode": {
    "name": "ipython",
    "version": 3
   },
   "file_extension": ".py",
   "mimetype": "text/x-python",
   "name": "python",
   "nbconvert_exporter": "python",
   "pygments_lexer": "ipython3",
   "version": "3.8.3"
  }
 },
 "nbformat": 4,
 "nbformat_minor": 4
}
