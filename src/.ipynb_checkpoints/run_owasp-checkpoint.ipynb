{
 "cells": [
  {
   "cell_type": "code",
   "execution_count": 1,
   "metadata": {},
   "outputs": [],
   "source": [
    "import torch\n",
    "import torch.nn as nn\n",
    "import torch.nn.functional as F\n",
    "import torch_geometric\n",
    "import os\n",
    "import javalang\n",
    "from javaprep import *\n",
    "from edge_index import edges\n",
    "import os\n",
    "from loaders import get_loaders, get_trees\n",
    "import matplotlib.pyplot as plt\n",
    "import random\n",
    "from datetime import datetime\n",
    "from datetime import date\n",
    "import csv\n",
    "import pandas as pd\n",
    "import torch.optim as optim\n",
    "import numpy as np"
   ]
  },
  {
   "cell_type": "code",
   "execution_count": 2,
   "metadata": {},
   "outputs": [],
   "source": [
    "from torch.nn import Linear\n",
    "import torch.nn.functional as F\n",
    "from torch_geometric.nn import GCNConv\n",
    "from torch_geometric.nn import global_mean_pool\n",
    "import torch\n",
    "\n",
    "class GCN(torch.nn.Module):\n",
    "    def __init__(self, seed):\n",
    "        torch.manual_seed(seed)\n",
    "        super(GCN, self).__init__()\n",
    "        self.conv1 = GCNConv(50, 64)\n",
    "        self.conv2 = GCNConv(64, 64)\n",
    "        self.conv3 = GCNConv(64, 64)\n",
    "        self.lin = Linear(64, 2)\n",
    "\n",
    "    def forward(self, x, edge_index, batch):\n",
    "        x = self.conv1(x, edge_index)\n",
    "        x = x.relu()\n",
    "        x = self.conv2(x, edge_index)\n",
    "        x = x.relu()\n",
    "        x = self.conv3(x, edge_index)\n",
    "        # 2. Readout layer\n",
    "        x = global_mean_pool(x, batch)  # [batch_size, hidden_channels]\n",
    "\n",
    "        # 3. Apply a final classifier\n",
    "        x = F.dropout(x, p=0.5, training=self.training)\n",
    "        x = self.lin(x)\n",
    "\n",
    "        \n",
    "        \n",
    "        return x"
   ]
  },
  {
   "cell_type": "code",
   "execution_count": 5,
   "metadata": {},
   "outputs": [
    {
     "name": "stdout",
     "output_type": "stream",
     "text": [
      "ERROR! Session/line number was not unique in database. History logging moved to new session 91\n"
     ]
    }
   ],
   "source": [
    "def learn(train, test, cwe):\n",
    "    \n",
    "    seed = random.randint(1,10000)\n",
    "    model = GCN(seed)\n",
    "    learning_rate = 0.01\n",
    "    loss_function = torch.nn.CrossEntropyLoss()\n",
    "    optimizer = torch.optim.Adam(model.parameters(), lr=learning_rate)\n",
    "    criterion = loss_function\n",
    "    current_time = (datetime.now()).strftime(\"%H:%M:%S\")\n",
    "    current_date = (date.today()).strftime(\"%d/%m/%Y\")\n",
    "    epochs, losses, test_accs, train_accs, precisions, recalls, fscores = [], [], [], [], [], [], []\n",
    "    score_report = {\n",
    "        'Test Acc': [], \n",
    "        'Losses': [],\n",
    "        'FScores': [],\n",
    "        'Recalls': [],\n",
    "        'Precisions': [],\n",
    "        'CWE': cwe, \n",
    "        'Model': str(model).replace('\\n', ' ').replace('\\t', ' '), \n",
    "        'Date': current_date, \n",
    "        'Time': current_time, \n",
    "        'Seed': seed, \n",
    "        'Learning Rate': learning_rate, \n",
    "        'Loss Function': loss_function\n",
    "    }\n",
    "    epochs_no_improve = 0\n",
    "    saved = False\n",
    "    scheduler = optim.lr_scheduler.StepLR(optimizer, step_size=10, gamma=0.08)\n",
    "    for epoch in range(40):\n",
    "        print(\"Epoch: \", epoch, end='\\r')\n",
    "        train_correct, train_total = 0, 0\n",
    "        for data in train:   \n",
    "            optimizer.zero_grad()  \n",
    "            out = model(data.x, data.edge_index, data.batch)  \n",
    "            loss = criterion(out, data.y)\n",
    "            pred = out.argmax(dim=1)\n",
    "            train_correct+=sum(1 for x,y in zip(pred.tolist(),data.y.tolist()) if x == y)\n",
    "            train_total+=len(pred.tolist())\n",
    "            loss.backward()  \n",
    "            optimizer.step()\n",
    "        scheduler.step()\n",
    "        train_accs.append(round(train_correct/train_total, 3))\n",
    "        test_correct, test_total = 0, 0\n",
    "        tp, fp = 0, 0\n",
    "        tn, fn = 0, 0\n",
    "        for quiz in test:\n",
    "            out = model(quiz.x, quiz.edge_index, quiz.batch) \n",
    "            pred = out.argmax(dim=1)\n",
    "            for x,y in zip(pred.tolist(),quiz.y.tolist()):\n",
    "                if x == y:\n",
    "                    test_correct+=1\n",
    "                if x == 1 and y == 0:\n",
    "                    fp+=1\n",
    "                if x == 0 and y == 0:\n",
    "                    tp+=1\n",
    "                if x == 0 and y == 0:\n",
    "                    tn+=1\n",
    "                if x == 0 and y ==1:\n",
    "                    fn+=1\n",
    "            test_total+=len(pred.tolist())\n",
    "        try:\n",
    "            precisions.append(round(tp/(tp+fp), 3)) \n",
    "            recalls.append(round(tp/(tp+fn), 3)) \n",
    "            fscores.append(2*(((tp/(tp+fp))*(tp/(tp+fn)))/((tp/(tp+fp))+(tp/(tp+fn)))))\n",
    "        except:\n",
    "            print(\"Divide by zero error\")\n",
    "            precisions.append(0) \n",
    "            recalls.append(0) \n",
    "            fscores.append(0)\n",
    "        epochs.append(epoch)\n",
    "        losses.append(loss)\n",
    "        test_accs.append(test_correct/test_total) \n",
    "        #print(\"Training \", str(cwe.split('/')[3]), \"on epoch \", epoch, \"with acc: \", str(round(correct/total, 4)), end = '\\r')\n",
    "        if epoch+1 in [1,3,5,10,20,40]:\n",
    "            score_report['Test Acc'].append(round(test_correct/test_total, 3))\n",
    "            score_report['Losses'].append(round(loss.item(), 3))\n",
    "            try:\n",
    "                score_report['FScores'].append(round((2*(((tp/(tp+fp))*(tp/(tp+fn)))/((tp/(tp+fp))+(tp/(tp+fn))))), 3))\n",
    "            except:\n",
    "                score_report['FScores'].append(-1)\n",
    "            try:\n",
    "                score_report['Recalls'].append(round(tp/(tp+fn), 3)) \n",
    "            except:\n",
    "                score_report['Recalls'].append(-1)\n",
    "            try:\n",
    "                score_report['Precisions'].append(round(tp/(tp+fp), 3)) \n",
    "            except:\n",
    "                score_report['Precisions'].append(-1)\n",
    "        \n",
    "        \n",
    "    plt.figure(figsize=(20,10))\n",
    "    x_ticks = np.arange(0, 40, 5)\n",
    "    plt.xticks(x_ticks)\n",
    "    y_ticks = np.arange(0, 1, 0.1)\n",
    "    plt.yticks(y_ticks)\n",
    "    plt.plot(epochs, losses, label='train loss', color='darkviolet', linewidth=2)\n",
    "    plt.plot(epochs, train_accs, label='train acc', color='gold', linewidth=2)\n",
    "    plt.plot(epochs, test_accs, label='test acc', color='forestgreen', linewidth=2)\n",
    "    plt.plot(epochs, precisions, label='precision', color='dodgerblue', linewidth=2)\n",
    "    plt.plot(epochs, recalls, label='recall', color='gray', linewidth=2)\n",
    "    plt.plot(epochs, fscores, label='f-score', color='crimson', linewidth=2)\n",
    "    plt.legend(prop={'size': 20})\n",
    "    plt.savefig('../pngs/OWASP-'+str(cwe)+'-'+str(current_date).replace('/','-')+'-'+str(current_time)+'.png')\n",
    "    plt.clf()\n",
    "    print()\n",
    "                                             \n",
    "    return score_report, model"
   ]
  },
  {
   "cell_type": "code",
   "execution_count": 4,
   "metadata": {},
   "outputs": [
    {
     "name": "stdout",
     "output_type": "stream",
     "text": [
      "creating asts...\n",
      "ERROR! Session/line number was not unique in database. History logging moved to new session 89\n",
      "creating trees...\n"
     ]
    }
   ],
   "source": [
    "vocabdict, treedict = get_trees()"
   ]
  },
  {
   "cell_type": "code",
   "execution_count": null,
   "metadata": {},
   "outputs": [
    {
     "name": "stdout",
     "output_type": "stream",
     "text": [
      "Learning on CWE22...\n",
      "22\n",
      "training word2vec...\n"
     ]
    },
    {
     "name": "stderr",
     "output_type": "stream",
     "text": [
      "WARNING:gensim.models.base_any2vec:consider setting layer size to a multiple of 4 for greater performance\n"
     ]
    },
    {
     "name": "stdout",
     "output_type": "stream",
     "text": [
      "creating graphs..\n",
      "balancing dataset (pass 1)\n",
      "Number of good methods:  1706  Number of bad methods:  1706\n",
      "splitting dataset\n",
      "Epoch:  39\n",
      "[22, '27/12/2020', '20:27:27', 'GCN(   (conv1): GCNConv(50, 64)   (conv2): GCNConv(64, 64)   (conv3): GCNConv(64, 64)   (lin): Linear(in_features=64, out_features=2, bias=True) )', 4619, 0.01, CrossEntropyLoss(), 0.07, 0.07, 0.131, 1.0, 0.395, 0.395, 0.567, 1.0, 0.859, 0.859, 0.924, 1.0, 0.886, 0.886, 0.939, 1.0, 0.911, 0.911, 0.953, 1.0, 0.884, 0.884, 0.939, 1.0]\n",
      "Learning on CWE78...\n",
      "78\n",
      "training word2vec...\n"
     ]
    },
    {
     "name": "stderr",
     "output_type": "stream",
     "text": [
      "WARNING:gensim.models.base_any2vec:consider setting layer size to a multiple of 4 for greater performance\n"
     ]
    },
    {
     "name": "stdout",
     "output_type": "stream",
     "text": [
      "creating graphs..\n",
      "balancing dataset (pass 1)\n",
      "Number of good methods:  1802  Number of bad methods:  1802\n",
      "splitting dataset\n",
      "Divide by zero error\n",
      "Epoch:  21\r"
     ]
    }
   ],
   "source": [
    "vulnerabilities = [22,78,79,89,90,327,328,330,501,614,643]\n",
    "for cwe in vulnerabilities:\n",
    "    print(\"Learning on CWE\"+str(cwe)+\"...\")\n",
    "    current_time = (datetime.now()).strftime(\"%H:%M:%S\")\n",
    "    current_date = (date.today()).strftime(\"%d/%m/%Y\")\n",
    "    models = []\n",
    "    ending_acc = []\n",
    "    sps = []\n",
    "    for i in range(3):\n",
    "        train, test = get_loaders(cwe, \"owasp\", vocabdict, treedict)\n",
    "        score_report, model = learn(train, test, cwe)\n",
    "        ending_acc.append(score_report['Test Acc'][-1])\n",
    "        models.append(model)\n",
    "        sps.append(score_report)\n",
    "        if max(ending_acc) == 1:\n",
    "            break\n",
    "    best_run = ending_acc.index(max(ending_acc))\n",
    "    score_report = sps[best_run]\n",
    "    model = models[best_run]\n",
    "    torch.save(model.state_dict(), '../models/OWASP-'+str(cwe)+'-'+(current_date).replace('/','')+'-'+current_time.replace('/',''))\n",
    "    row = [\n",
    "        score_report['CWE'],\n",
    "        score_report['Date'],\n",
    "        score_report['Time'],\n",
    "        score_report['Model'],\n",
    "        score_report['Seed'],\n",
    "        score_report['Learning Rate'],\n",
    "        score_report['Loss Function'],\n",
    "    ]\n",
    "    for epoch in zip(score_report['Test Acc'], score_report['Precisions'], score_report['FScores'], score_report['Recalls']):\n",
    "        for item in epoch:\n",
    "            row.append(item)\n",
    "    print(row)       \n",
    "    with open('../owasp_score_report.csv','a') as fd:\n",
    "        writer = csv.writer(fd)\n",
    "        writer.writerow(row)\n",
    "\n",
    "print(\"Done\")"
   ]
  },
  {
   "cell_type": "code",
   "execution_count": null,
   "metadata": {},
   "outputs": [],
   "source": []
  },
  {
   "cell_type": "code",
   "execution_count": null,
   "metadata": {},
   "outputs": [],
   "source": []
  }
 ],
 "metadata": {
  "kernelspec": {
   "display_name": "faast",
   "language": "python",
   "name": "faast"
  },
  "language_info": {
   "codemirror_mode": {
    "name": "ipython",
    "version": 3
   },
   "file_extension": ".py",
   "mimetype": "text/x-python",
   "name": "python",
   "nbconvert_exporter": "python",
   "pygments_lexer": "ipython3",
   "version": "3.6.9"
  }
 },
 "nbformat": 4,
 "nbformat_minor": 4
}
